{
 "cells": [
  {
   "cell_type": "code",
   "execution_count": 1,
   "id": "db12c814",
   "metadata": {},
   "outputs": [],
   "source": [
    "import pandas as pd\n",
    "import matplotlib.pyplot as plt\n",
    "import seaborn as sns"
   ]
  },
  {
   "cell_type": "markdown",
   "id": "724d02e5",
   "metadata": {},
   "source": [
    "# 성일정보고등학교 학생 데이터\n",
    "# 변수명 => SHD"
   ]
  },
  {
   "cell_type": "code",
   "execution_count": 22,
   "id": "c336b39c",
   "metadata": {},
   "outputs": [
    {
     "data": {
      "text/html": [
       "<div>\n",
       "<style scoped>\n",
       "    .dataframe tbody tr th:only-of-type {\n",
       "        vertical-align: middle;\n",
       "    }\n",
       "\n",
       "    .dataframe tbody tr th {\n",
       "        vertical-align: top;\n",
       "    }\n",
       "\n",
       "    .dataframe thead th {\n",
       "        text-align: right;\n",
       "    }\n",
       "</style>\n",
       "<table border=\"1\" class=\"dataframe\">\n",
       "  <thead>\n",
       "    <tr style=\"text-align: right;\">\n",
       "      <th></th>\n",
       "      <th>타임스탬프</th>\n",
       "      <th>학년</th>\n",
       "      <th>성별</th>\n",
       "      <th>학과</th>\n",
       "      <th>취미</th>\n",
       "      <th>개인공부시간</th>\n",
       "      <th>공부 시간대</th>\n",
       "      <th>기대연봉</th>\n",
       "      <th>학과 만족여부</th>\n",
       "      <th>전공 선호도</th>\n",
       "      <th>소셜미디어 사용시간</th>\n",
       "      <th>등교시간</th>\n",
       "      <th>하교시간</th>\n",
       "      <th>하교후 가는 곳</th>\n",
       "      <th>학업 스트레스</th>\n",
       "      <th>친구관계</th>\n",
       "      <th>알바</th>\n",
       "      <th>방과후 여부</th>\n",
       "    </tr>\n",
       "  </thead>\n",
       "  <tbody>\n",
       "    <tr>\n",
       "      <th>0</th>\n",
       "      <td>2023. 10. 12 오후 12:21:46</td>\n",
       "      <td>2학년</td>\n",
       "      <td>남자</td>\n",
       "      <td>창업마케팅과</td>\n",
       "      <td>운동</td>\n",
       "      <td>1시간-2시간</td>\n",
       "      <td>방과후(저녁)</td>\n",
       "      <td>3천만원</td>\n",
       "      <td>O</td>\n",
       "      <td>5</td>\n",
       "      <td>1시간-2시간</td>\n",
       "      <td>10-30분</td>\n",
       "      <td>18시 이후!</td>\n",
       "      <td>학원 또는 방과후</td>\n",
       "      <td>좋음</td>\n",
       "      <td>나쁨</td>\n",
       "      <td>X</td>\n",
       "      <td>O</td>\n",
       "    </tr>\n",
       "  </tbody>\n",
       "</table>\n",
       "</div>"
      ],
      "text/plain": [
       "                      타임스탬프   학년  성별      학과  취미   개인공부시간   공부 시간대  기대연봉  \\\n",
       "0  2023. 10. 12 오후 12:21:46  2학년  남자  창업마케팅과  운동  1시간-2시간  방과후(저녁)  3천만원   \n",
       "\n",
       "  학과 만족여부  전공 선호도 소셜미디어 사용시간    등교시간     하교시간   하교후 가는 곳 학업 스트레스 친구관계 알바  \\\n",
       "0       O       5    1시간-2시간  10-30분  18시 이후!  학원 또는 방과후      좋음   나쁨  X   \n",
       "\n",
       "  방과후 여부  \n",
       "0      O  "
      ]
     },
     "execution_count": 22,
     "metadata": {},
     "output_type": "execute_result"
    }
   ],
   "source": [
    "SHD = pd.read_csv('data/1급-기밀파일.csv', encoding='cp949')\n",
    "SHD.head(1)"
   ]
  },
  {
   "cell_type": "markdown",
   "id": "8a9195d1",
   "metadata": {},
   "source": [
    "# 정보고 학생 학년별 설문 참여도 (1학년 최고)"
   ]
  },
  {
   "cell_type": "code",
   "execution_count": 89,
   "id": "59aef685",
   "metadata": {},
   "outputs": [
    {
     "data": {
      "text/plain": [
       "학년\n",
       "1학년    129\n",
       "2학년    107\n",
       "3학년     29\n",
       "Name: 학년, dtype: int64"
      ]
     },
     "execution_count": 89,
     "metadata": {},
     "output_type": "execute_result"
    }
   ],
   "source": [
    "SHD.groupby('학년')['학년'].count()\n",
    "# 학년별 설문조사 참여 수"
   ]
  },
  {
   "cell_type": "markdown",
   "id": "412ee3d6",
   "metadata": {},
   "source": [
    "# 7개 학과별 설문 참여도 (전산계열 넘 고맙다)"
   ]
  },
  {
   "cell_type": "code",
   "execution_count": 94,
   "id": "5bb87767",
   "metadata": {},
   "outputs": [
    {
     "data": {
      "text/plain": [
       "학과\n",
       "금융경영과       28\n",
       "부사관과        34\n",
       "뷰티디자인과       5\n",
       "소프트웨어개발과    97\n",
       "스마트웹콘텐츠과    55\n",
       "창업마케팅과      42\n",
       "회계정보과        4\n",
       "Name: 학년, dtype: int64"
      ]
     },
     "execution_count": 94,
     "metadata": {},
     "output_type": "execute_result"
    }
   ],
   "source": [
    "SHD.groupby('학과')['학년'].count()"
   ]
  },
  {
   "cell_type": "markdown",
   "id": "affec4fb",
   "metadata": {},
   "source": [
    "# 학과별에 따른 학년별 설문 참여도"
   ]
  },
  {
   "cell_type": "code",
   "execution_count": 61,
   "id": "a745da3a",
   "metadata": {},
   "outputs": [
    {
     "data": {
      "text/html": [
       "<div>\n",
       "<style scoped>\n",
       "    .dataframe tbody tr th:only-of-type {\n",
       "        vertical-align: middle;\n",
       "    }\n",
       "\n",
       "    .dataframe tbody tr th {\n",
       "        vertical-align: top;\n",
       "    }\n",
       "\n",
       "    .dataframe thead th {\n",
       "        text-align: right;\n",
       "    }\n",
       "</style>\n",
       "<table border=\"1\" class=\"dataframe\">\n",
       "  <thead>\n",
       "    <tr style=\"text-align: right;\">\n",
       "      <th></th>\n",
       "      <th></th>\n",
       "      <th>학년</th>\n",
       "    </tr>\n",
       "    <tr>\n",
       "      <th>학년</th>\n",
       "      <th>학과</th>\n",
       "      <th></th>\n",
       "    </tr>\n",
       "  </thead>\n",
       "  <tbody>\n",
       "    <tr>\n",
       "      <th rowspan=\"6\" valign=\"top\">1학년</th>\n",
       "      <th>금융경영과</th>\n",
       "      <td>14</td>\n",
       "    </tr>\n",
       "    <tr>\n",
       "      <th>부사관과</th>\n",
       "      <td>23</td>\n",
       "    </tr>\n",
       "    <tr>\n",
       "      <th>소프트웨어개발과</th>\n",
       "      <td>44</td>\n",
       "    </tr>\n",
       "    <tr>\n",
       "      <th>스마트웹콘텐츠과</th>\n",
       "      <td>25</td>\n",
       "    </tr>\n",
       "    <tr>\n",
       "      <th>창업마케팅과</th>\n",
       "      <td>20</td>\n",
       "    </tr>\n",
       "    <tr>\n",
       "      <th>회계정보과</th>\n",
       "      <td>3</td>\n",
       "    </tr>\n",
       "    <tr>\n",
       "      <th rowspan=\"5\" valign=\"top\">2학년</th>\n",
       "      <th>금융경영과</th>\n",
       "      <td>11</td>\n",
       "    </tr>\n",
       "    <tr>\n",
       "      <th>부사관과</th>\n",
       "      <td>11</td>\n",
       "    </tr>\n",
       "    <tr>\n",
       "      <th>소프트웨어개발과</th>\n",
       "      <td>40</td>\n",
       "    </tr>\n",
       "    <tr>\n",
       "      <th>스마트웹콘텐츠과</th>\n",
       "      <td>23</td>\n",
       "    </tr>\n",
       "    <tr>\n",
       "      <th>창업마케팅과</th>\n",
       "      <td>22</td>\n",
       "    </tr>\n",
       "    <tr>\n",
       "      <th rowspan=\"5\" valign=\"top\">3학년</th>\n",
       "      <th>금융경영과</th>\n",
       "      <td>3</td>\n",
       "    </tr>\n",
       "    <tr>\n",
       "      <th>뷰티디자인과</th>\n",
       "      <td>5</td>\n",
       "    </tr>\n",
       "    <tr>\n",
       "      <th>소프트웨어개발과</th>\n",
       "      <td>13</td>\n",
       "    </tr>\n",
       "    <tr>\n",
       "      <th>스마트웹콘텐츠과</th>\n",
       "      <td>7</td>\n",
       "    </tr>\n",
       "    <tr>\n",
       "      <th>회계정보과</th>\n",
       "      <td>1</td>\n",
       "    </tr>\n",
       "  </tbody>\n",
       "</table>\n",
       "</div>"
      ],
      "text/plain": [
       "              학년\n",
       "학년  학과          \n",
       "1학년 금융경영과     14\n",
       "    부사관과      23\n",
       "    소프트웨어개발과  44\n",
       "    스마트웹콘텐츠과  25\n",
       "    창업마케팅과    20\n",
       "    회계정보과      3\n",
       "2학년 금융경영과     11\n",
       "    부사관과      11\n",
       "    소프트웨어개발과  40\n",
       "    스마트웹콘텐츠과  23\n",
       "    창업마케팅과    22\n",
       "3학년 금융경영과      3\n",
       "    뷰티디자인과     5\n",
       "    소프트웨어개발과  13\n",
       "    스마트웹콘텐츠과   7\n",
       "    회계정보과      1"
      ]
     },
     "execution_count": 61,
     "metadata": {},
     "output_type": "execute_result"
    }
   ],
   "source": [
    "SHD.groupby(['학년','학과'])[['학년']].count()"
   ]
  },
  {
   "cell_type": "markdown",
   "id": "0b148dd5",
   "metadata": {},
   "source": [
    "# 학년별로 추출해 SHD_0 형식으로 변수 저장"
   ]
  },
  {
   "cell_type": "code",
   "execution_count": 95,
   "id": "84ece5c5",
   "metadata": {},
   "outputs": [],
   "source": [
    "SHD_1 = SHD[SHD['학년']=='1학년'] # 1학년 데이터만 추출(변수 저장)\n",
    "SHD_2 = SHD[SHD['학년']=='2학년'] # 2학년 데이터만 추출(변수 저장)\n",
    "SHD_3 = SHD[SHD['학년']=='3학년'] # 3학년 데이터만 추출(변수 저장)"
   ]
  },
  {
   "cell_type": "markdown",
   "id": "c533c1c4",
   "metadata": {},
   "source": [
    "# 그래프 예시 테스트"
   ]
  },
  {
   "cell_type": "code",
   "execution_count": 60,
   "id": "f91d72f0",
   "metadata": {},
   "outputs": [
    {
     "data": {
      "image/png": "[encoded data removed]",
      "text/plain": [
       "<Figure size 640x480 with 1 Axes>"
      ]
     },
     "metadata": {},
     "output_type": "display_data"
    }
   ],
   "source": [
    "SHD.groupby('학년')['알바'].value_counts().plot(kind='bar') #학년 그룹 알바 컬럼 나열\n",
    "plt.rc('font',family='Malgun Gothic') # 텍스트 한글 패치\n",
    "plt.title('학년별 알바 여부', fontsize=25) # 제목 텍스트 크기\n",
    "plt.show()"
   ]
  },
  {
   "cell_type": "markdown",
   "id": "625ce32e",
   "metadata": {},
   "source": [
    "# 우리는 할 수 있다! 자신감을 가져~ 화이팅!!"
   ]
  }
 ],
 "metadata": {
  "kernelspec": {
   "display_name": "Python 3 (ipykernel)",
   "language": "python",
   "name": "python3"
  },
  "language_info": {
   "codemirror_mode": {
    "name": "ipython",
    "version": 3
   },
   "file_extension": ".py",
   "mimetype": "text/x-python",
   "name": "python",
   "nbconvert_exporter": "python",
   "pygments_lexer": "ipython3",
   "version": "3.9.13"
  }
 },
 "nbformat": 4,
 "nbformat_minor": 5
}
