{
 "cells": [
  {
   "cell_type": "code",
   "execution_count": 15,
   "id": "94736b5a",
   "metadata": {},
   "outputs": [
    {
     "name": "stdout",
     "output_type": "stream",
     "text": [
      "Requirement already satisfied: wordcloud in c:\\users\\user\\anaconda3\\lib\\site-packages (1.9.2)\n",
      "Requirement already satisfied: numpy>=1.6.1 in c:\\users\\user\\anaconda3\\lib\\site-packages (from wordcloud) (1.23.5)\n",
      "Requirement already satisfied: pillow in c:\\users\\user\\anaconda3\\lib\\site-packages (from wordcloud) (9.4.0)\n",
      "Requirement already satisfied: matplotlib in c:\\users\\user\\anaconda3\\lib\\site-packages (from wordcloud) (3.7.0)\n",
      "Requirement already satisfied: pyparsing>=2.3.1 in c:\\users\\user\\anaconda3\\lib\\site-packages (from matplotlib->wordcloud) (3.0.9)\n",
      "Requirement already satisfied: kiwisolver>=1.0.1 in c:\\users\\user\\anaconda3\\lib\\site-packages (from matplotlib->wordcloud) (1.4.4)\n",
      "Requirement already satisfied: packaging>=20.0 in c:\\users\\user\\anaconda3\\lib\\site-packages (from matplotlib->wordcloud) (22.0)\n",
      "Requirement already satisfied: contourpy>=1.0.1 in c:\\users\\user\\anaconda3\\lib\\site-packages (from matplotlib->wordcloud) (1.0.5)\n",
      "Requirement already satisfied: cycler>=0.10 in c:\\users\\user\\anaconda3\\lib\\site-packages (from matplotlib->wordcloud) (0.11.0)\n",
      "Requirement already satisfied: fonttools>=4.22.0 in c:\\users\\user\\anaconda3\\lib\\site-packages (from matplotlib->wordcloud) (4.25.0)\n",
      "Requirement already satisfied: python-dateutil>=2.7 in c:\\users\\user\\anaconda3\\lib\\site-packages (from matplotlib->wordcloud) (2.8.2)\n",
      "Requirement already satisfied: six>=1.5 in c:\\users\\user\\anaconda3\\lib\\site-packages (from python-dateutil>=2.7->matplotlib->wordcloud) (1.16.0)\n"
     ]
    }
   ],
   "source": [
    "!pip install wordcloud"
   ]
  },
  {
   "cell_type": "code",
   "execution_count": 16,
   "id": "d25b6c08",
   "metadata": {},
   "outputs": [],
   "source": [
    "from wordcloud import WordCloud\n",
    "from string import digits\n",
    "import re"
   ]
  },
  {
   "cell_type": "code",
   "execution_count": 18,
   "id": "93351069",
   "metadata": {},
   "outputs": [
    {
     "name": "stdout",
     "output_type": "stream",
     "text": [
      "늙으면 입을  없어서\n",
      "\n",
      "소외되는 학생이 있을  있으니까\n",
      "학생 때만 입을  있으니까\n",
      "좀 심오하게 가자면, 집안사정이 그리 좋지 않은 아이들은 맨날 같은 옷만 입는 경우가 생길  있겠죠. 이런 아이들에겐 주변 친구들 눈치도 안보이고 교복이 오히려 좋을 거 같아서요.\n",
      "질서 유지\n",
      "필요는 하겠지만 (여러 행사에 의해) 어느 정도 자유를 둬도 괜찮다고 생각한다.\n",
      "어른이 되어서는 입을  없으니까 \n",
      "학생의 신분이기 때문에\n",
      "학생들간의 가정환경(부모님재력)을 함부로 판단하지 않아도 되고, 학생때만 누릴있는 특혜라고 생각하기 때문에\n",
      "\n",
      "학교를 다니는 학생이니까\n",
      "모든 같은 옷을 입고있기때문에 옷에대한 걱정이 필요없지고 학생이라는것을 알  있기 때문에\n",
      "걍\n",
      "\n",
      "학생\n",
      "\n",
      "\n",
      "학교에 갈때는 교복이 디폴트라고 생각합니다\n",
      "\n",
      "\n",
      "\n",
      "\n",
      "\n",
      "만약 필요하다면 각 학교간 학생 구별을 위해 필요하다 생각됩니다\n",
      "학생과 외부인 구분\n",
      "학교를 다녀서\n",
      "없어진다면 당장은 좋을지 몰라도 지금 사회에 부작용이 나타날것 같아서.\n",
      "\n",
      "\n",
      "학생의 신분을 가장 잘 나태낼  있는것이 교복이라고 생각합니다.\n",
      "학교에 교복이 필요한게 이유가 있을까요\n",
      "\n",
      "\n",
      "학생이니까\n",
      "학생이라서\n"
     ]
    }
   ],
   "source": [
    "text=\"\"\n",
    "with open(\"교복 필요성.txt\",\"r\",encoding=\"utf-8\") as f:\n",
    "    lines = f.readlines()\n",
    "    for line in lines:\n",
    "        text += line.replace(\"수\",\"\")\n",
    "text=re.sub(r'[0-9]+',\"\",text)\n",
    "print(text)"
   ]
  },
  {
   "cell_type": "code",
   "execution_count": 19,
   "id": "b3c6d8f3",
   "metadata": {},
   "outputs": [],
   "source": [
    "font_path = \"C:/Windows/Fonts/malgun.ttf\""
   ]
  },
  {
   "cell_type": "code",
   "execution_count": 20,
   "id": "2ddd0e1b",
   "metadata": {},
   "outputs": [
    {
     "data": {
      "text/plain": [
       "<wordcloud.wordcloud.WordCloud at 0x17fc00c7370>"
      ]
     },
     "execution_count": 20,
     "metadata": {},
     "output_type": "execute_result"
    }
   ],
   "source": [
    "wc = WordCloud(font_path=font_path, background_color=\"white\", width=600, height=400)\n",
    "wc.generate(text)\n",
    "wc.to_file(\"1.png\")"
   ]
  },
  {
   "cell_type": "code",
   "execution_count": null,
   "id": "aae87f2b",
   "metadata": {},
   "outputs": [],
   "source": []
  }
 ],
 "metadata": {
  "kernelspec": {
   "display_name": "Python 3 (ipykernel)",
   "language": "python",
   "name": "python3"
  },
  "language_info": {
   "codemirror_mode": {
    "name": "ipython",
    "version": 3
   },
   "file_extension": ".py",
   "mimetype": "text/x-python",
   "name": "python",
   "nbconvert_exporter": "python",
   "pygments_lexer": "ipython3",
   "version": "3.10.9"
  }
 },
 "nbformat": 4,
 "nbformat_minor": 5
}
