{
 "cells": [
  {
   "cell_type": "code",
   "execution_count": 1,
   "id": "69c9a18d",
   "metadata": {},
   "outputs": [
    {
     "name": "stdout",
     "output_type": "stream",
     "text": [
      "Requirement already satisfied: plotly in c:\\users\\win10\\anaconda3\\lib\\site-packages (5.9.0)\n",
      "Requirement already satisfied: tenacity>=6.2.0 in c:\\users\\win10\\anaconda3\\lib\\site-packages (from plotly) (8.0.1)\n",
      "Requirement already satisfied: cufflinks in c:\\users\\win10\\anaconda3\\lib\\site-packages (0.17.3)\n",
      "Requirement already satisfied: numpy>=1.9.2 in c:\\users\\win10\\anaconda3\\lib\\site-packages (from cufflinks) (1.21.5)\n",
      "Requirement already satisfied: six>=1.9.0 in c:\\users\\win10\\anaconda3\\lib\\site-packages (from cufflinks) (1.16.0)\n",
      "Requirement already satisfied: plotly>=4.1.1 in c:\\users\\win10\\anaconda3\\lib\\site-packages (from cufflinks) (5.9.0)\n",
      "Requirement already satisfied: setuptools>=34.4.1 in c:\\users\\win10\\anaconda3\\lib\\site-packages (from cufflinks) (63.4.1)\n",
      "Requirement already satisfied: ipywidgets>=7.0.0 in c:\\users\\win10\\anaconda3\\lib\\site-packages (from cufflinks) (7.6.5)\n",
      "Requirement already satisfied: ipython>=5.3.0 in c:\\users\\win10\\anaconda3\\lib\\site-packages (from cufflinks) (7.31.1)\n",
      "Requirement already satisfied: pandas>=0.19.2 in c:\\users\\win10\\anaconda3\\lib\\site-packages (from cufflinks) (1.4.4)\n",
      "Requirement already satisfied: colorlover>=0.2.1 in c:\\users\\win10\\anaconda3\\lib\\site-packages (from cufflinks) (0.3.0)\n",
      "Requirement already satisfied: decorator in c:\\users\\win10\\anaconda3\\lib\\site-packages (from ipython>=5.3.0->cufflinks) (5.1.1)\n",
      "Requirement already satisfied: colorama in c:\\users\\win10\\anaconda3\\lib\\site-packages (from ipython>=5.3.0->cufflinks) (0.4.5)\n",
      "Requirement already satisfied: matplotlib-inline in c:\\users\\win10\\anaconda3\\lib\\site-packages (from ipython>=5.3.0->cufflinks) (0.1.6)\n",
      "Requirement already satisfied: jedi>=0.16 in c:\\users\\win10\\anaconda3\\lib\\site-packages (from ipython>=5.3.0->cufflinks) (0.18.1)\n",
      "Requirement already satisfied: prompt-toolkit!=3.0.0,!=3.0.1,<3.1.0,>=2.0.0 in c:\\users\\win10\\anaconda3\\lib\\site-packages (from ipython>=5.3.0->cufflinks) (3.0.20)\n",
      "Requirement already satisfied: traitlets>=4.2 in c:\\users\\win10\\anaconda3\\lib\\site-packages (from ipython>=5.3.0->cufflinks) (5.1.1)\n",
      "Requirement already satisfied: backcall in c:\\users\\win10\\anaconda3\\lib\\site-packages (from ipython>=5.3.0->cufflinks) (0.2.0)\n",
      "Requirement already satisfied: pickleshare in c:\\users\\win10\\anaconda3\\lib\\site-packages (from ipython>=5.3.0->cufflinks) (0.7.5)\n",
      "Requirement already satisfied: pygments in c:\\users\\win10\\anaconda3\\lib\\site-packages (from ipython>=5.3.0->cufflinks) (2.11.2)\n",
      "Requirement already satisfied: jupyterlab-widgets>=1.0.0 in c:\\users\\win10\\anaconda3\\lib\\site-packages (from ipywidgets>=7.0.0->cufflinks) (1.0.0)\n",
      "Requirement already satisfied: ipython-genutils~=0.2.0 in c:\\users\\win10\\anaconda3\\lib\\site-packages (from ipywidgets>=7.0.0->cufflinks) (0.2.0)\n",
      "Requirement already satisfied: widgetsnbextension~=3.5.0 in c:\\users\\win10\\anaconda3\\lib\\site-packages (from ipywidgets>=7.0.0->cufflinks) (3.5.2)\n",
      "Requirement already satisfied: nbformat>=4.2.0 in c:\\users\\win10\\anaconda3\\lib\\site-packages (from ipywidgets>=7.0.0->cufflinks) (5.5.0)\n",
      "Requirement already satisfied: ipykernel>=4.5.1 in c:\\users\\win10\\anaconda3\\lib\\site-packages (from ipywidgets>=7.0.0->cufflinks) (6.15.2)\n",
      "Requirement already satisfied: pytz>=2020.1 in c:\\users\\win10\\anaconda3\\lib\\site-packages (from pandas>=0.19.2->cufflinks) (2022.1)\n",
      "Requirement already satisfied: python-dateutil>=2.8.1 in c:\\users\\win10\\anaconda3\\lib\\site-packages (from pandas>=0.19.2->cufflinks) (2.8.2)\n",
      "Requirement already satisfied: tenacity>=6.2.0 in c:\\users\\win10\\anaconda3\\lib\\site-packages (from plotly>=4.1.1->cufflinks) (8.0.1)\n",
      "Requirement already satisfied: jupyter-client>=6.1.12 in c:\\users\\win10\\anaconda3\\lib\\site-packages (from ipykernel>=4.5.1->ipywidgets>=7.0.0->cufflinks) (7.3.4)\n",
      "Requirement already satisfied: debugpy>=1.0 in c:\\users\\win10\\anaconda3\\lib\\site-packages (from ipykernel>=4.5.1->ipywidgets>=7.0.0->cufflinks) (1.5.1)\n",
      "Requirement already satisfied: psutil in c:\\users\\win10\\anaconda3\\lib\\site-packages (from ipykernel>=4.5.1->ipywidgets>=7.0.0->cufflinks) (5.9.0)\n",
      "Requirement already satisfied: packaging in c:\\users\\win10\\anaconda3\\lib\\site-packages (from ipykernel>=4.5.1->ipywidgets>=7.0.0->cufflinks) (21.3)\n",
      "Requirement already satisfied: tornado>=6.1 in c:\\users\\win10\\anaconda3\\lib\\site-packages (from ipykernel>=4.5.1->ipywidgets>=7.0.0->cufflinks) (6.1)\n",
      "Requirement already satisfied: pyzmq>=17 in c:\\users\\win10\\anaconda3\\lib\\site-packages (from ipykernel>=4.5.1->ipywidgets>=7.0.0->cufflinks) (23.2.0)\n",
      "Requirement already satisfied: nest-asyncio in c:\\users\\win10\\anaconda3\\lib\\site-packages (from ipykernel>=4.5.1->ipywidgets>=7.0.0->cufflinks) (1.5.5)\n",
      "Requirement already satisfied: parso<0.9.0,>=0.8.0 in c:\\users\\win10\\anaconda3\\lib\\site-packages (from jedi>=0.16->ipython>=5.3.0->cufflinks) (0.8.3)\n",
      "Requirement already satisfied: jupyter_core in c:\\users\\win10\\anaconda3\\lib\\site-packages (from nbformat>=4.2.0->ipywidgets>=7.0.0->cufflinks) (4.11.1)\n",
      "Requirement already satisfied: jsonschema>=2.6 in c:\\users\\win10\\anaconda3\\lib\\site-packages (from nbformat>=4.2.0->ipywidgets>=7.0.0->cufflinks) (4.16.0)\n",
      "Requirement already satisfied: fastjsonschema in c:\\users\\win10\\anaconda3\\lib\\site-packages (from nbformat>=4.2.0->ipywidgets>=7.0.0->cufflinks) (2.16.2)\n",
      "Requirement already satisfied: wcwidth in c:\\users\\win10\\anaconda3\\lib\\site-packages (from prompt-toolkit!=3.0.0,!=3.0.1,<3.1.0,>=2.0.0->ipython>=5.3.0->cufflinks) (0.2.5)\n",
      "Requirement already satisfied: notebook>=4.4.1 in c:\\users\\win10\\anaconda3\\lib\\site-packages (from widgetsnbextension~=3.5.0->ipywidgets>=7.0.0->cufflinks) (6.4.12)\n",
      "Requirement already satisfied: attrs>=17.4.0 in c:\\users\\win10\\anaconda3\\lib\\site-packages (from jsonschema>=2.6->nbformat>=4.2.0->ipywidgets>=7.0.0->cufflinks) (21.4.0)\n",
      "Requirement already satisfied: pyrsistent!=0.17.0,!=0.17.1,!=0.17.2,>=0.14.0 in c:\\users\\win10\\anaconda3\\lib\\site-packages (from jsonschema>=2.6->nbformat>=4.2.0->ipywidgets>=7.0.0->cufflinks) (0.18.0)\n",
      "Requirement already satisfied: entrypoints in c:\\users\\win10\\anaconda3\\lib\\site-packages (from jupyter-client>=6.1.12->ipykernel>=4.5.1->ipywidgets>=7.0.0->cufflinks) (0.4)\n",
      "Requirement already satisfied: pywin32>=1.0 in c:\\users\\win10\\anaconda3\\lib\\site-packages (from jupyter_core->nbformat>=4.2.0->ipywidgets>=7.0.0->cufflinks) (302)\n",
      "Requirement already satisfied: terminado>=0.8.3 in c:\\users\\win10\\anaconda3\\lib\\site-packages (from notebook>=4.4.1->widgetsnbextension~=3.5.0->ipywidgets>=7.0.0->cufflinks) (0.13.1)\n",
      "Requirement already satisfied: argon2-cffi in c:\\users\\win10\\anaconda3\\lib\\site-packages (from notebook>=4.4.1->widgetsnbextension~=3.5.0->ipywidgets>=7.0.0->cufflinks) (21.3.0)\n",
      "Requirement already satisfied: nbconvert>=5 in c:\\users\\win10\\anaconda3\\lib\\site-packages (from notebook>=4.4.1->widgetsnbextension~=3.5.0->ipywidgets>=7.0.0->cufflinks) (6.4.4)\n",
      "Requirement already satisfied: prometheus-client in c:\\users\\win10\\anaconda3\\lib\\site-packages (from notebook>=4.4.1->widgetsnbextension~=3.5.0->ipywidgets>=7.0.0->cufflinks) (0.14.1)\n",
      "Requirement already satisfied: jinja2 in c:\\users\\win10\\anaconda3\\lib\\site-packages (from notebook>=4.4.1->widgetsnbextension~=3.5.0->ipywidgets>=7.0.0->cufflinks) (2.11.3)\n",
      "Requirement already satisfied: Send2Trash>=1.8.0 in c:\\users\\win10\\anaconda3\\lib\\site-packages (from notebook>=4.4.1->widgetsnbextension~=3.5.0->ipywidgets>=7.0.0->cufflinks) (1.8.0)\n",
      "Requirement already satisfied: pyparsing!=3.0.5,>=2.0.2 in c:\\users\\win10\\anaconda3\\lib\\site-packages (from packaging->ipykernel>=4.5.1->ipywidgets>=7.0.0->cufflinks) (3.0.9)\n",
      "Requirement already satisfied: testpath in c:\\users\\win10\\anaconda3\\lib\\site-packages (from nbconvert>=5->notebook>=4.4.1->widgetsnbextension~=3.5.0->ipywidgets>=7.0.0->cufflinks) (0.6.0)\n",
      "Requirement already satisfied: beautifulsoup4 in c:\\users\\win10\\anaconda3\\lib\\site-packages (from nbconvert>=5->notebook>=4.4.1->widgetsnbextension~=3.5.0->ipywidgets>=7.0.0->cufflinks) (4.11.1)\n",
      "Requirement already satisfied: mistune<2,>=0.8.1 in c:\\users\\win10\\anaconda3\\lib\\site-packages (from nbconvert>=5->notebook>=4.4.1->widgetsnbextension~=3.5.0->ipywidgets>=7.0.0->cufflinks) (0.8.4)\n",
      "Requirement already satisfied: defusedxml in c:\\users\\win10\\anaconda3\\lib\\site-packages (from nbconvert>=5->notebook>=4.4.1->widgetsnbextension~=3.5.0->ipywidgets>=7.0.0->cufflinks) (0.7.1)\n",
      "Requirement already satisfied: nbclient<0.6.0,>=0.5.0 in c:\\users\\win10\\anaconda3\\lib\\site-packages (from nbconvert>=5->notebook>=4.4.1->widgetsnbextension~=3.5.0->ipywidgets>=7.0.0->cufflinks) (0.5.13)\n",
      "Requirement already satisfied: pandocfilters>=1.4.1 in c:\\users\\win10\\anaconda3\\lib\\site-packages (from nbconvert>=5->notebook>=4.4.1->widgetsnbextension~=3.5.0->ipywidgets>=7.0.0->cufflinks) (1.5.0)\n",
      "Requirement already satisfied: bleach in c:\\users\\win10\\anaconda3\\lib\\site-packages (from nbconvert>=5->notebook>=4.4.1->widgetsnbextension~=3.5.0->ipywidgets>=7.0.0->cufflinks) (4.1.0)\n",
      "Requirement already satisfied: jupyterlab-pygments in c:\\users\\win10\\anaconda3\\lib\\site-packages (from nbconvert>=5->notebook>=4.4.1->widgetsnbextension~=3.5.0->ipywidgets>=7.0.0->cufflinks) (0.1.2)\n",
      "Requirement already satisfied: MarkupSafe>=0.23 in c:\\users\\win10\\anaconda3\\lib\\site-packages (from jinja2->notebook>=4.4.1->widgetsnbextension~=3.5.0->ipywidgets>=7.0.0->cufflinks) (2.0.1)\n",
      "Requirement already satisfied: pywinpty>=1.1.0 in c:\\users\\win10\\anaconda3\\lib\\site-packages (from terminado>=0.8.3->notebook>=4.4.1->widgetsnbextension~=3.5.0->ipywidgets>=7.0.0->cufflinks) (2.0.2)\n",
      "Requirement already satisfied: argon2-cffi-bindings in c:\\users\\win10\\anaconda3\\lib\\site-packages (from argon2-cffi->notebook>=4.4.1->widgetsnbextension~=3.5.0->ipywidgets>=7.0.0->cufflinks) (21.2.0)\n",
      "Requirement already satisfied: cffi>=1.0.1 in c:\\users\\win10\\anaconda3\\lib\\site-packages (from argon2-cffi-bindings->argon2-cffi->notebook>=4.4.1->widgetsnbextension~=3.5.0->ipywidgets>=7.0.0->cufflinks) (1.15.1)\n",
      "Requirement already satisfied: soupsieve>1.2 in c:\\users\\win10\\anaconda3\\lib\\site-packages (from beautifulsoup4->nbconvert>=5->notebook>=4.4.1->widgetsnbextension~=3.5.0->ipywidgets>=7.0.0->cufflinks) (2.3.1)\n",
      "Requirement already satisfied: webencodings in c:\\users\\win10\\anaconda3\\lib\\site-packages (from bleach->nbconvert>=5->notebook>=4.4.1->widgetsnbextension~=3.5.0->ipywidgets>=7.0.0->cufflinks) (0.5.1)\n",
      "Requirement already satisfied: pycparser in c:\\users\\win10\\anaconda3\\lib\\site-packages (from cffi>=1.0.1->argon2-cffi-bindings->argon2-cffi->notebook>=4.4.1->widgetsnbextension~=3.5.0->ipywidgets>=7.0.0->cufflinks) (2.21)\n"
     ]
    }
   ],
   "source": [
    "!pip install plotly\n",
    "!pip install cufflinks"
   ]
  },
  {
   "cell_type": "code",
   "execution_count": 2,
   "id": "83089534",
   "metadata": {},
   "outputs": [],
   "source": [
    "import pandas as pd\n",
    "import numpy as np\n",
    "import matplotlib.pyplot as plt\n",
    "import seaborn as sns\n",
    "from matplotlib import style\n",
    "import plotly.graph_objects as go\n",
    "from plotly.subplots import make_subplots\n",
    "import warnings\n",
    "\n",
    "%matplotlib inline"
   ]
  },
  {
   "cell_type": "code",
   "execution_count": 3,
   "id": "8216c729",
   "metadata": {},
   "outputs": [],
   "source": [
    "plt.rcParams['font.family'] = 'Malgun Gothic'\n",
    "plt.rcParams['axes.unicode_minus'] = False"
   ]
  },
  {
   "cell_type": "code",
   "execution_count": 4,
   "id": "5fe65476",
   "metadata": {},
   "outputs": [
    {
     "data": {
      "text/html": [
       "<div>\n",
       "<style scoped>\n",
       "    .dataframe tbody tr th:only-of-type {\n",
       "        vertical-align: middle;\n",
       "    }\n",
       "\n",
       "    .dataframe tbody tr th {\n",
       "        vertical-align: top;\n",
       "    }\n",
       "\n",
       "    .dataframe thead th {\n",
       "        text-align: right;\n",
       "    }\n",
       "</style>\n",
       "<table border=\"1\" class=\"dataframe\">\n",
       "  <thead>\n",
       "    <tr style=\"text-align: right;\">\n",
       "      <th></th>\n",
       "      <th>성별</th>\n",
       "      <th>전공</th>\n",
       "      <th>신장</th>\n",
       "      <th>몸무게</th>\n",
       "      <th>1학년평균성적</th>\n",
       "      <th>2학년평균성적</th>\n",
       "      <th>3학년평균성적</th>\n",
       "      <th>취미</th>\n",
       "      <th>일평균학습시간</th>\n",
       "      <th>집중공부시간</th>\n",
       "      <th>기대연봉</th>\n",
       "      <th>전공만족여부</th>\n",
       "      <th>전공관련취업선호도</th>\n",
       "      <th>일평균소셜미디어사용시간</th>\n",
       "      <th>통학시간</th>\n",
       "      <th>학업스트레스</th>\n",
       "      <th>교우관계스트레스</th>\n",
       "      <th>아르바이트여부</th>\n",
       "      <th>방과후수업여부</th>\n",
       "    </tr>\n",
       "  </thead>\n",
       "  <tbody>\n",
       "    <tr>\n",
       "      <th>0</th>\n",
       "      <td>Male</td>\n",
       "      <td>BCA</td>\n",
       "      <td>100.0</td>\n",
       "      <td>58.0</td>\n",
       "      <td>79.0</td>\n",
       "      <td>65.0</td>\n",
       "      <td>80.0</td>\n",
       "      <td>Video Games</td>\n",
       "      <td>0 - 30 minute</td>\n",
       "      <td>Morning</td>\n",
       "      <td>40000</td>\n",
       "      <td>No</td>\n",
       "      <td>50%</td>\n",
       "      <td>1.30 - 2 hour</td>\n",
       "      <td>30 - 60 minutes</td>\n",
       "      <td>나쁨</td>\n",
       "      <td>나쁨</td>\n",
       "      <td>No</td>\n",
       "      <td>No</td>\n",
       "    </tr>\n",
       "    <tr>\n",
       "      <th>1</th>\n",
       "      <td>Female</td>\n",
       "      <td>BCA</td>\n",
       "      <td>90.0</td>\n",
       "      <td>40.0</td>\n",
       "      <td>70.0</td>\n",
       "      <td>80.0</td>\n",
       "      <td>70.0</td>\n",
       "      <td>Cinema</td>\n",
       "      <td>30 - 60 minute</td>\n",
       "      <td>Morning</td>\n",
       "      <td>15000</td>\n",
       "      <td>Yes</td>\n",
       "      <td>75%</td>\n",
       "      <td>1 - 1.30 hour</td>\n",
       "      <td>0 - 30 minutes</td>\n",
       "      <td>나쁨</td>\n",
       "      <td>나쁨</td>\n",
       "      <td>No</td>\n",
       "      <td>No</td>\n",
       "    </tr>\n",
       "    <tr>\n",
       "      <th>2</th>\n",
       "      <td>Male</td>\n",
       "      <td>BCA</td>\n",
       "      <td>159.0</td>\n",
       "      <td>78.0</td>\n",
       "      <td>69.5</td>\n",
       "      <td>61.0</td>\n",
       "      <td>55.0</td>\n",
       "      <td>Cinema</td>\n",
       "      <td>1 - 2 Hour</td>\n",
       "      <td>Anytime</td>\n",
       "      <td>13000</td>\n",
       "      <td>Yes</td>\n",
       "      <td>50%</td>\n",
       "      <td>More than 2 hour</td>\n",
       "      <td>30 - 60 minutes</td>\n",
       "      <td>끔찍함</td>\n",
       "      <td>나쁨</td>\n",
       "      <td>No</td>\n",
       "      <td>Yes</td>\n",
       "    </tr>\n",
       "    <tr>\n",
       "      <th>3</th>\n",
       "      <td>Female</td>\n",
       "      <td>BCA</td>\n",
       "      <td>147.0</td>\n",
       "      <td>20.0</td>\n",
       "      <td>70.0</td>\n",
       "      <td>59.0</td>\n",
       "      <td>58.0</td>\n",
       "      <td>Reading books</td>\n",
       "      <td>1 - 2 Hour</td>\n",
       "      <td>Anytime</td>\n",
       "      <td>1500000</td>\n",
       "      <td>No</td>\n",
       "      <td>50%</td>\n",
       "      <td>1.30 - 2 hour</td>\n",
       "      <td>0 - 30 minutes</td>\n",
       "      <td>나쁨</td>\n",
       "      <td>좋음</td>\n",
       "      <td>No</td>\n",
       "      <td>Yes</td>\n",
       "    </tr>\n",
       "    <tr>\n",
       "      <th>4</th>\n",
       "      <td>Male</td>\n",
       "      <td>BCA</td>\n",
       "      <td>170.0</td>\n",
       "      <td>54.0</td>\n",
       "      <td>40.0</td>\n",
       "      <td>65.0</td>\n",
       "      <td>30.0</td>\n",
       "      <td>Video Games</td>\n",
       "      <td>30 - 60 minute</td>\n",
       "      <td>Morning</td>\n",
       "      <td>50000</td>\n",
       "      <td>Yes</td>\n",
       "      <td>25%</td>\n",
       "      <td>1.30 - 2 hour</td>\n",
       "      <td>30 - 60 minutes</td>\n",
       "      <td>좋음</td>\n",
       "      <td>좋음</td>\n",
       "      <td>No</td>\n",
       "      <td>No</td>\n",
       "    </tr>\n",
       "  </tbody>\n",
       "</table>\n",
       "</div>"
      ],
      "text/plain": [
       "       성별   전공     신장   몸무게  1학년평균성적  2학년평균성적  3학년평균성적             취미  \\\n",
       "0    Male  BCA  100.0  58.0     79.0     65.0     80.0    Video Games   \n",
       "1  Female  BCA   90.0  40.0     70.0     80.0     70.0         Cinema   \n",
       "2    Male  BCA  159.0  78.0     69.5     61.0     55.0         Cinema   \n",
       "3  Female  BCA  147.0  20.0     70.0     59.0     58.0  Reading books   \n",
       "4    Male  BCA  170.0  54.0     40.0     65.0     30.0    Video Games   \n",
       "\n",
       "          일평균학습시간   집중공부시간     기대연봉 전공만족여부 전공관련취업선호도      일평균소셜미디어사용시간  \\\n",
       "0   0 - 30 minute  Morning    40000     No       50%     1.30 - 2 hour   \n",
       "1  30 - 60 minute  Morning    15000    Yes       75%     1 - 1.30 hour   \n",
       "2      1 - 2 Hour  Anytime    13000    Yes       50%  More than 2 hour   \n",
       "3      1 - 2 Hour  Anytime  1500000     No       50%     1.30 - 2 hour   \n",
       "4  30 - 60 minute  Morning    50000    Yes       25%     1.30 - 2 hour   \n",
       "\n",
       "              통학시간 학업스트레스 교우관계스트레스 아르바이트여부 방과후수업여부  \n",
       "0  30 - 60 minutes     나쁨       나쁨      No      No  \n",
       "1   0 - 30 minutes     나쁨       나쁨      No      No  \n",
       "2  30 - 60 minutes    끔찍함       나쁨      No     Yes  \n",
       "3   0 - 30 minutes     나쁨       좋음      No     Yes  \n",
       "4  30 - 60 minutes     좋음       좋음      No      No  "
      ]
     },
     "execution_count": 4,
     "metadata": {},
     "output_type": "execute_result"
    }
   ],
   "source": [
    "s = pd.read_csv('data/school_report_ver2.csv', encoding='cp949')\n",
    "s.head()"
   ]
  },
  {
   "cell_type": "code",
   "execution_count": 5,
   "id": "4465701d",
   "metadata": {},
   "outputs": [
    {
     "data": {
      "text/plain": [
       "Index(['성별', '전공', '신장', '몸무게', '1학년평균성적', '2학년평균성적', '3학년평균성적', '취미',\n",
       "       '일평균학습시간', '집중공부시간', '기대연봉', '전공만족여부', '전공관련취업선호도', '일평균소셜미디어사용시간',\n",
       "       '통학시간', '학업스트레스', '교우관계스트레스', '아르바이트여부', '방과후수업여부'],\n",
       "      dtype='object')"
      ]
     },
     "execution_count": 5,
     "metadata": {},
     "output_type": "execute_result"
    }
   ],
   "source": [
    "s.columns"
   ]
  },
  {
   "cell_type": "code",
   "execution_count": 6,
   "id": "f373691a",
   "metadata": {},
   "outputs": [
    {
     "data": {
      "text/plain": [
       "(235, 19)"
      ]
     },
     "execution_count": 6,
     "metadata": {},
     "output_type": "execute_result"
    }
   ],
   "source": [
    "# 행과 열의 개수\n",
    "s.shape"
   ]
  },
  {
   "cell_type": "code",
   "execution_count": 7,
   "id": "cff13026",
   "metadata": {
    "scrolled": true
   },
   "outputs": [
    {
     "data": {
      "text/html": [
       "<div>\n",
       "<style scoped>\n",
       "    .dataframe tbody tr th:only-of-type {\n",
       "        vertical-align: middle;\n",
       "    }\n",
       "\n",
       "    .dataframe tbody tr th {\n",
       "        vertical-align: top;\n",
       "    }\n",
       "\n",
       "    .dataframe thead th {\n",
       "        text-align: right;\n",
       "    }\n",
       "</style>\n",
       "<table border=\"1\" class=\"dataframe\">\n",
       "  <thead>\n",
       "    <tr style=\"text-align: right;\">\n",
       "      <th></th>\n",
       "      <th>타임스탬프</th>\n",
       "      <th>학년</th>\n",
       "      <th>성별</th>\n",
       "      <th>학과</th>\n",
       "      <th>취미</th>\n",
       "      <th>개인공부시간</th>\n",
       "      <th>공부 시간대</th>\n",
       "      <th>기대연봉</th>\n",
       "      <th>학과 만족여부</th>\n",
       "      <th>전공 선호도</th>\n",
       "      <th>소셜미디어 사용시간</th>\n",
       "      <th>등교시간</th>\n",
       "      <th>하교시간</th>\n",
       "      <th>하교후 가는 곳</th>\n",
       "      <th>학업 스트레스</th>\n",
       "      <th>친구관계</th>\n",
       "      <th>알바</th>\n",
       "      <th>방과후 여부</th>\n",
       "    </tr>\n",
       "  </thead>\n",
       "  <tbody>\n",
       "    <tr>\n",
       "      <th>0</th>\n",
       "      <td>2023. 10. 12 오후 12:21:46</td>\n",
       "      <td>2학년</td>\n",
       "      <td>남자</td>\n",
       "      <td>창업마케팅과</td>\n",
       "      <td>운동</td>\n",
       "      <td>1시간-2시간</td>\n",
       "      <td>방과후(저녁)</td>\n",
       "      <td>3천만원</td>\n",
       "      <td>O</td>\n",
       "      <td>5</td>\n",
       "      <td>1시간-2시간</td>\n",
       "      <td>10-30분</td>\n",
       "      <td>18시 이후!</td>\n",
       "      <td>학원 또는 방과후</td>\n",
       "      <td>좋음</td>\n",
       "      <td>나쁨</td>\n",
       "      <td>X</td>\n",
       "      <td>O</td>\n",
       "    </tr>\n",
       "    <tr>\n",
       "      <th>1</th>\n",
       "      <td>2023. 10. 12 오후 12:21:49</td>\n",
       "      <td>2학년</td>\n",
       "      <td>남자</td>\n",
       "      <td>창업마케팅과</td>\n",
       "      <td>게임</td>\n",
       "      <td>0-30분</td>\n",
       "      <td>기타</td>\n",
       "      <td>2500</td>\n",
       "      <td>O</td>\n",
       "      <td>5</td>\n",
       "      <td>2시간-3시간 이상</td>\n",
       "      <td>10-30분</td>\n",
       "      <td>바로 집에 가요!</td>\n",
       "      <td>집</td>\n",
       "      <td>나쁨</td>\n",
       "      <td>좋음</td>\n",
       "      <td>X</td>\n",
       "      <td>O</td>\n",
       "    </tr>\n",
       "    <tr>\n",
       "      <th>2</th>\n",
       "      <td>2023. 10. 12 오후 12:23:07</td>\n",
       "      <td>3학년</td>\n",
       "      <td>남자</td>\n",
       "      <td>소프트웨어개발과</td>\n",
       "      <td>게임</td>\n",
       "      <td>0-30분</td>\n",
       "      <td>기타</td>\n",
       "      <td>3000</td>\n",
       "      <td>O</td>\n",
       "      <td>7</td>\n",
       "      <td>1시간-2시간</td>\n",
       "      <td>10-30분</td>\n",
       "      <td>바로 집에 가요!</td>\n",
       "      <td>집</td>\n",
       "      <td>좋음</td>\n",
       "      <td>매우 좋음</td>\n",
       "      <td>X</td>\n",
       "      <td>X</td>\n",
       "    </tr>\n",
       "    <tr>\n",
       "      <th>3</th>\n",
       "      <td>2023. 10. 12 오후 12:23:25</td>\n",
       "      <td>3학년</td>\n",
       "      <td>남자</td>\n",
       "      <td>소프트웨어개발과</td>\n",
       "      <td>게임</td>\n",
       "      <td>0-30분</td>\n",
       "      <td>밤</td>\n",
       "      <td>3200</td>\n",
       "      <td>O</td>\n",
       "      <td>5</td>\n",
       "      <td>0-30분</td>\n",
       "      <td>10-30분</td>\n",
       "      <td>바로 집에 가요!</td>\n",
       "      <td>집</td>\n",
       "      <td>나쁨</td>\n",
       "      <td>매우 좋음</td>\n",
       "      <td>X</td>\n",
       "      <td>X</td>\n",
       "    </tr>\n",
       "    <tr>\n",
       "      <th>4</th>\n",
       "      <td>2023. 10. 12 오후 12:23:28</td>\n",
       "      <td>2학년</td>\n",
       "      <td>남자</td>\n",
       "      <td>창업마케팅과</td>\n",
       "      <td>음악</td>\n",
       "      <td>0-30분</td>\n",
       "      <td>기타</td>\n",
       "      <td>123억</td>\n",
       "      <td>O</td>\n",
       "      <td>5</td>\n",
       "      <td>2시간-3시간 이상</td>\n",
       "      <td>1시간-2시간</td>\n",
       "      <td>18시 이후!</td>\n",
       "      <td>학원 또는 방과후</td>\n",
       "      <td>매우 좋음</td>\n",
       "      <td>매우 좋음</td>\n",
       "      <td>O</td>\n",
       "      <td>X</td>\n",
       "    </tr>\n",
       "  </tbody>\n",
       "</table>\n",
       "</div>"
      ],
      "text/plain": [
       "                      타임스탬프   학년  성별        학과  취미   개인공부시간   공부 시간대  기대연봉  \\\n",
       "0  2023. 10. 12 오후 12:21:46  2학년  남자    창업마케팅과  운동  1시간-2시간  방과후(저녁)  3천만원   \n",
       "1  2023. 10. 12 오후 12:21:49  2학년  남자    창업마케팅과  게임    0-30분       기타  2500   \n",
       "2  2023. 10. 12 오후 12:23:07  3학년  남자  소프트웨어개발과  게임    0-30분       기타  3000   \n",
       "3  2023. 10. 12 오후 12:23:25  3학년  남자  소프트웨어개발과  게임    0-30분        밤  3200   \n",
       "4  2023. 10. 12 오후 12:23:28  2학년  남자    창업마케팅과  음악    0-30분       기타  123억   \n",
       "\n",
       "  학과 만족여부  전공 선호도  소셜미디어 사용시간     등교시간       하교시간   하교후 가는 곳 학업 스트레스   친구관계  \\\n",
       "0       O       5     1시간-2시간   10-30분    18시 이후!  학원 또는 방과후      좋음     나쁨   \n",
       "1       O       5  2시간-3시간 이상   10-30분  바로 집에 가요!          집      나쁨     좋음   \n",
       "2       O       7     1시간-2시간   10-30분  바로 집에 가요!          집      좋음  매우 좋음   \n",
       "3       O       5       0-30분   10-30분  바로 집에 가요!          집      나쁨  매우 좋음   \n",
       "4       O       5  2시간-3시간 이상  1시간-2시간    18시 이후!  학원 또는 방과후   매우 좋음  매우 좋음   \n",
       "\n",
       "  알바 방과후 여부  \n",
       "0  X      O  \n",
       "1  X      O  \n",
       "2  X      X  \n",
       "3  X      X  \n",
       "4  O      X  "
      ]
     },
     "execution_count": 7,
     "metadata": {},
     "output_type": "execute_result"
    }
   ],
   "source": [
    "y = pd.read_csv('data/1급-기밀파일.csv', encoding='cp949')\n",
    "y.head()"
   ]
  },
  {
   "cell_type": "code",
   "execution_count": 8,
   "id": "39d72b1a",
   "metadata": {},
   "outputs": [
    {
     "data": {
      "text/plain": [
       "(265, 18)"
      ]
     },
     "execution_count": 8,
     "metadata": {},
     "output_type": "execute_result"
    }
   ],
   "source": [
    "# 행과 열의 개수\n",
    "y.shape"
   ]
  },
  {
   "cell_type": "code",
   "execution_count": 9,
   "id": "550db6ae",
   "metadata": {},
   "outputs": [
    {
     "data": {
      "text/plain": [
       "성별              0\n",
       "전공              0\n",
       "신장              0\n",
       "몸무게             0\n",
       "1학년평균성적         0\n",
       "2학년평균성적         0\n",
       "3학년평균성적         0\n",
       "취미              0\n",
       "일평균학습시간         0\n",
       "집중공부시간          0\n",
       "기대연봉            0\n",
       "전공만족여부          0\n",
       "전공관련취업선호도       0\n",
       "일평균소셜미디어사용시간    0\n",
       "통학시간            0\n",
       "학업스트레스          0\n",
       "교우관계스트레스        0\n",
       "아르바이트여부         0\n",
       "방과후수업여부         0\n",
       "dtype: int64"
      ]
     },
     "execution_count": 9,
     "metadata": {},
     "output_type": "execute_result"
    }
   ],
   "source": [
    "# 값이 있는지 없는지 확인을 해 보았다.\n",
    "s.isnull().sum()"
   ]
  },
  {
   "cell_type": "code",
   "execution_count": 10,
   "id": "d90ff94b",
   "metadata": {},
   "outputs": [
    {
     "data": {
      "text/plain": [
       "타임스탬프         0\n",
       "학년            0\n",
       "성별            0\n",
       "학과            0\n",
       "취미            0\n",
       "개인공부시간        0\n",
       "공부 시간대        0\n",
       "기대연봉          0\n",
       "학과 만족여부       0\n",
       "전공 선호도        0\n",
       "소셜미디어 사용시간    0\n",
       "등교시간          0\n",
       "하교시간          0\n",
       "하교후 가는 곳      0\n",
       "학업 스트레스       0\n",
       "친구관계          0\n",
       "알바            0\n",
       "방과후 여부        0\n",
       "dtype: int64"
      ]
     },
     "execution_count": 10,
     "metadata": {},
     "output_type": "execute_result"
    }
   ],
   "source": [
    "# 값이 있는지 없는지 확인을 해 보았다.\n",
    "y.isnull().sum()"
   ]
  },
  {
   "cell_type": "code",
   "execution_count": 11,
   "id": "38df64c6",
   "metadata": {},
   "outputs": [
    {
     "name": "stdout",
     "output_type": "stream",
     "text": [
      "<class 'pandas.core.frame.DataFrame'>\n",
      "RangeIndex: 235 entries, 0 to 234\n",
      "Data columns (total 19 columns):\n",
      " #   Column        Non-Null Count  Dtype  \n",
      "---  ------        --------------  -----  \n",
      " 0   성별            235 non-null    object \n",
      " 1   전공            235 non-null    object \n",
      " 2   신장            235 non-null    float64\n",
      " 3   몸무게           235 non-null    float64\n",
      " 4   1학년평균성적       235 non-null    float64\n",
      " 5   2학년평균성적       235 non-null    float64\n",
      " 6   3학년평균성적       235 non-null    float64\n",
      " 7   취미            235 non-null    object \n",
      " 8   일평균학습시간       235 non-null    object \n",
      " 9   집중공부시간        235 non-null    object \n",
      " 10  기대연봉          235 non-null    int64  \n",
      " 11  전공만족여부        235 non-null    object \n",
      " 12  전공관련취업선호도     235 non-null    object \n",
      " 13  일평균소셜미디어사용시간  235 non-null    object \n",
      " 14  통학시간          235 non-null    object \n",
      " 15  학업스트레스        235 non-null    object \n",
      " 16  교우관계스트레스      235 non-null    object \n",
      " 17  아르바이트여부       235 non-null    object \n",
      " 18  방과후수업여부       235 non-null    object \n",
      "dtypes: float64(5), int64(1), object(13)\n",
      "memory usage: 35.0+ KB\n"
     ]
    }
   ],
   "source": [
    "# 데이터 타입이 어떻게 되어있는지 확인을 해 보았다.\n",
    "s.info()"
   ]
  },
  {
   "cell_type": "code",
   "execution_count": 12,
   "id": "036d6bb6",
   "metadata": {},
   "outputs": [
    {
     "data": {
      "text/plain": [
       "신장     235\n",
       "몸무게    235\n",
       "dtype: int64"
      ]
     },
     "execution_count": 12,
     "metadata": {},
     "output_type": "execute_result"
    }
   ],
   "source": [
    "# 컬럼별 개수\n",
    "s[['신장','몸무게']].count()"
   ]
  },
  {
   "cell_type": "code",
   "execution_count": 13,
   "id": "51d34f51",
   "metadata": {},
   "outputs": [
    {
     "data": {
      "text/html": [
       "<div>\n",
       "<style scoped>\n",
       "    .dataframe tbody tr th:only-of-type {\n",
       "        vertical-align: middle;\n",
       "    }\n",
       "\n",
       "    .dataframe tbody tr th {\n",
       "        vertical-align: top;\n",
       "    }\n",
       "\n",
       "    .dataframe thead th {\n",
       "        text-align: right;\n",
       "    }\n",
       "</style>\n",
       "<table border=\"1\" class=\"dataframe\">\n",
       "  <thead>\n",
       "    <tr style=\"text-align: right;\">\n",
       "      <th></th>\n",
       "      <th>신장</th>\n",
       "      <th>몸무게</th>\n",
       "      <th>1학년평균성적</th>\n",
       "      <th>2학년평균성적</th>\n",
       "      <th>3학년평균성적</th>\n",
       "      <th>기대연봉</th>\n",
       "    </tr>\n",
       "  </thead>\n",
       "  <tbody>\n",
       "    <tr>\n",
       "      <th>count</th>\n",
       "      <td>235.000000</td>\n",
       "      <td>235.000000</td>\n",
       "      <td>235.000000</td>\n",
       "      <td>235.000000</td>\n",
       "      <td>235.000000</td>\n",
       "      <td>2.350000e+02</td>\n",
       "    </tr>\n",
       "    <tr>\n",
       "      <th>mean</th>\n",
       "      <td>157.402128</td>\n",
       "      <td>60.803830</td>\n",
       "      <td>76.842128</td>\n",
       "      <td>68.780128</td>\n",
       "      <td>70.660553</td>\n",
       "      <td>3.248168e+04</td>\n",
       "    </tr>\n",
       "    <tr>\n",
       "      <th>std</th>\n",
       "      <td>21.510805</td>\n",
       "      <td>14.895844</td>\n",
       "      <td>13.050800</td>\n",
       "      <td>11.016533</td>\n",
       "      <td>15.727446</td>\n",
       "      <td>1.113146e+05</td>\n",
       "    </tr>\n",
       "    <tr>\n",
       "      <th>min</th>\n",
       "      <td>4.500000</td>\n",
       "      <td>20.000000</td>\n",
       "      <td>7.400000</td>\n",
       "      <td>45.000000</td>\n",
       "      <td>1.000000</td>\n",
       "      <td>0.000000e+00</td>\n",
       "    </tr>\n",
       "    <tr>\n",
       "      <th>25%</th>\n",
       "      <td>152.000000</td>\n",
       "      <td>50.000000</td>\n",
       "      <td>70.000000</td>\n",
       "      <td>60.000000</td>\n",
       "      <td>60.000000</td>\n",
       "      <td>1.500000e+04</td>\n",
       "    </tr>\n",
       "    <tr>\n",
       "      <th>50%</th>\n",
       "      <td>160.000000</td>\n",
       "      <td>60.000000</td>\n",
       "      <td>80.000000</td>\n",
       "      <td>69.000000</td>\n",
       "      <td>70.000000</td>\n",
       "      <td>2.000000e+04</td>\n",
       "    </tr>\n",
       "    <tr>\n",
       "      <th>75%</th>\n",
       "      <td>170.000000</td>\n",
       "      <td>70.000000</td>\n",
       "      <td>86.250000</td>\n",
       "      <td>76.000000</td>\n",
       "      <td>80.000000</td>\n",
       "      <td>2.500000e+04</td>\n",
       "    </tr>\n",
       "    <tr>\n",
       "      <th>max</th>\n",
       "      <td>192.000000</td>\n",
       "      <td>106.000000</td>\n",
       "      <td>98.000000</td>\n",
       "      <td>94.000000</td>\n",
       "      <td>100.000000</td>\n",
       "      <td>1.500000e+06</td>\n",
       "    </tr>\n",
       "  </tbody>\n",
       "</table>\n",
       "</div>"
      ],
      "text/plain": [
       "               신장         몸무게     1학년평균성적     2학년평균성적     3학년평균성적  \\\n",
       "count  235.000000  235.000000  235.000000  235.000000  235.000000   \n",
       "mean   157.402128   60.803830   76.842128   68.780128   70.660553   \n",
       "std     21.510805   14.895844   13.050800   11.016533   15.727446   \n",
       "min      4.500000   20.000000    7.400000   45.000000    1.000000   \n",
       "25%    152.000000   50.000000   70.000000   60.000000   60.000000   \n",
       "50%    160.000000   60.000000   80.000000   69.000000   70.000000   \n",
       "75%    170.000000   70.000000   86.250000   76.000000   80.000000   \n",
       "max    192.000000  106.000000   98.000000   94.000000  100.000000   \n",
       "\n",
       "               기대연봉  \n",
       "count  2.350000e+02  \n",
       "mean   3.248168e+04  \n",
       "std    1.113146e+05  \n",
       "min    0.000000e+00  \n",
       "25%    1.500000e+04  \n",
       "50%    2.000000e+04  \n",
       "75%    2.500000e+04  \n",
       "max    1.500000e+06  "
      ]
     },
     "execution_count": 13,
     "metadata": {},
     "output_type": "execute_result"
    }
   ],
   "source": [
    "# float와 int만 가져와서 계수와 평균 최소 최대 값을 구한다\n",
    "s.describe()"
   ]
  },
  {
   "cell_type": "code",
   "execution_count": 14,
   "id": "85681d99",
   "metadata": {},
   "outputs": [
    {
     "data": {
      "text/html": [
       "<div>\n",
       "<style scoped>\n",
       "    .dataframe tbody tr th:only-of-type {\n",
       "        vertical-align: middle;\n",
       "    }\n",
       "\n",
       "    .dataframe tbody tr th {\n",
       "        vertical-align: top;\n",
       "    }\n",
       "\n",
       "    .dataframe thead th {\n",
       "        text-align: right;\n",
       "    }\n",
       "</style>\n",
       "<table border=\"1\" class=\"dataframe\">\n",
       "  <thead>\n",
       "    <tr style=\"text-align: right;\">\n",
       "      <th></th>\n",
       "      <th>전공 선호도</th>\n",
       "    </tr>\n",
       "  </thead>\n",
       "  <tbody>\n",
       "    <tr>\n",
       "      <th>count</th>\n",
       "      <td>265.000000</td>\n",
       "    </tr>\n",
       "    <tr>\n",
       "      <th>mean</th>\n",
       "      <td>6.596226</td>\n",
       "    </tr>\n",
       "    <tr>\n",
       "      <th>std</th>\n",
       "      <td>2.609566</td>\n",
       "    </tr>\n",
       "    <tr>\n",
       "      <th>min</th>\n",
       "      <td>0.000000</td>\n",
       "    </tr>\n",
       "    <tr>\n",
       "      <th>25%</th>\n",
       "      <td>5.000000</td>\n",
       "    </tr>\n",
       "    <tr>\n",
       "      <th>50%</th>\n",
       "      <td>7.000000</td>\n",
       "    </tr>\n",
       "    <tr>\n",
       "      <th>75%</th>\n",
       "      <td>9.000000</td>\n",
       "    </tr>\n",
       "    <tr>\n",
       "      <th>max</th>\n",
       "      <td>10.000000</td>\n",
       "    </tr>\n",
       "  </tbody>\n",
       "</table>\n",
       "</div>"
      ],
      "text/plain": [
       "           전공 선호도\n",
       "count  265.000000\n",
       "mean     6.596226\n",
       "std      2.609566\n",
       "min      0.000000\n",
       "25%      5.000000\n",
       "50%      7.000000\n",
       "75%      9.000000\n",
       "max     10.000000"
      ]
     },
     "execution_count": 14,
     "metadata": {},
     "output_type": "execute_result"
    }
   ],
   "source": [
    "# float와 int만 가져와서 계수와 평균 최소 최대 값을 구한다\n",
    "y.describe()"
   ]
  },
  {
   "cell_type": "code",
   "execution_count": 15,
   "id": "aeeff4ad",
   "metadata": {},
   "outputs": [
    {
     "data": {
      "text/plain": [
       "<AxesSubplot:xlabel='1학년평균성적,2학년평균성적,3학년평균성적'>"
      ]
     },
     "execution_count": 15,
     "metadata": {},
     "output_type": "execute_result"
    },
    {
     "data": {
      "image/png": "[encoded data removed]",
      "text/plain": [
       "<Figure size 640x480 with 1 Axes>"
      ]
     },
     "metadata": {},
     "output_type": "display_data"
    }
   ],
   "source": [
    "s.groupby(['1학년평균성적','2학년평균성적','3학년평균성적']).mean().plot()"
   ]
  },
  {
   "cell_type": "code",
   "execution_count": 16,
   "id": "d18c569a",
   "metadata": {},
   "outputs": [
    {
     "data": {
      "image/png": "[encoded data removed]",
      "text/plain": [
       "<Figure size 640x480 with 1 Axes>"
      ]
     },
     "metadata": {},
     "output_type": "display_data"
    }
   ],
   "source": [
    "s[['1학년평균성적','2학년평균성적','3학년평균성적']].mean().plot(kind='bar')\n",
    "plt.title('학년별 학교 성적', fontsize=25)\n",
    "plt.ylim(0, 100)\n",
    "plt.xlabel('학년', fontsize=20)\n",
    "plt.ylabel('성적', fontsize=20)\n",
    "plt.show()"
   ]
  },
  {
   "cell_type": "code",
   "execution_count": 17,
   "id": "d8297db3",
   "metadata": {},
   "outputs": [
    {
     "data": {
      "image/png": "[encoded data removed]",
      "text/plain": [
       "<Figure size 640x480 with 1 Axes>"
      ]
     },
     "metadata": {},
     "output_type": "display_data"
    }
   ],
   "source": [
    "s.groupby('성별')[['1학년평균성적','2학년평균성적','3학년평균성적']].mean().plot(kind='bar')\n",
    "plt.title('성별에 따른 학년별 성적', fontsize=25)\n",
    "plt.ylim(0, 100)\n",
    "plt.xlabel('학년', fontsize=20)\n",
    "plt.ylabel('성적', fontsize=20)\n",
    "plt.show()"
   ]
  },
  {
   "cell_type": "code",
   "execution_count": 18,
   "id": "9a3db065",
   "metadata": {},
   "outputs": [
    {
     "data": {
      "text/plain": [
       "성별\n",
       "Female     79\n",
       "Male      156\n",
       "Name: 전공, dtype: int64"
      ]
     },
     "execution_count": 18,
     "metadata": {},
     "output_type": "execute_result"
    }
   ],
   "source": [
    "s.groupby('성별')['전공'].count()"
   ]
  },
  {
   "cell_type": "code",
   "execution_count": 19,
   "id": "5907598a",
   "metadata": {},
   "outputs": [
    {
     "data": {
      "text/html": [
       "<div>\n",
       "<style scoped>\n",
       "    .dataframe tbody tr th:only-of-type {\n",
       "        vertical-align: middle;\n",
       "    }\n",
       "\n",
       "    .dataframe tbody tr th {\n",
       "        vertical-align: top;\n",
       "    }\n",
       "\n",
       "    .dataframe thead th {\n",
       "        text-align: right;\n",
       "    }\n",
       "</style>\n",
       "<table border=\"1\" class=\"dataframe\">\n",
       "  <thead>\n",
       "    <tr style=\"text-align: right;\">\n",
       "      <th></th>\n",
       "      <th>1학년평균성적</th>\n",
       "      <th>2학년평균성적</th>\n",
       "      <th>3학년평균성적</th>\n",
       "    </tr>\n",
       "  </thead>\n",
       "  <tbody>\n",
       "    <tr>\n",
       "      <th>0</th>\n",
       "      <td>79</td>\n",
       "      <td>65</td>\n",
       "      <td>80</td>\n",
       "    </tr>\n",
       "  </tbody>\n",
       "</table>\n",
       "</div>"
      ],
      "text/plain": [
       "   1학년평균성적  2학년평균성적  3학년평균성적\n",
       "0       79       65       80"
      ]
     },
     "execution_count": 19,
     "metadata": {},
     "output_type": "execute_result"
    }
   ],
   "source": [
    "# astype은 데이터타입을 바꾸어준다.\n",
    "s[['1학년평균성적','2학년평균성적','3학년평균성적']] = s[['1학년평균성적','2학년평균성적','3학년평균성적']].astype('int')\n",
    "s[['1학년평균성적','2학년평균성적','3학년평균성적']].head(1)"
   ]
  },
  {
   "cell_type": "code",
   "execution_count": 20,
   "id": "26455e7b",
   "metadata": {
    "scrolled": false
   },
   "outputs": [
    {
     "name": "stdout",
     "output_type": "stream",
     "text": [
      "<class 'pandas.core.frame.DataFrame'>\n",
      "RangeIndex: 235 entries, 0 to 234\n",
      "Data columns (total 3 columns):\n",
      " #   Column   Non-Null Count  Dtype\n",
      "---  ------   --------------  -----\n",
      " 0   1학년평균성적  235 non-null    int32\n",
      " 1   2학년평균성적  235 non-null    int32\n",
      " 2   3학년평균성적  235 non-null    int32\n",
      "dtypes: int32(3)\n",
      "memory usage: 2.9 KB\n"
     ]
    }
   ],
   "source": [
    "s[['1학년평균성적','2학년평균성적','3학년평균성적']].info()"
   ]
  },
  {
   "cell_type": "code",
   "execution_count": 21,
   "id": "d03de729",
   "metadata": {},
   "outputs": [
    {
     "data": {
      "text/plain": [
       "<pandas.core.groupby.generic.DataFrameGroupBy object at 0x000001868AC05E80>"
      ]
     },
     "execution_count": 21,
     "metadata": {},
     "output_type": "execute_result"
    }
   ],
   "source": [
    "y.groupby('학년')"
   ]
  },
  {
   "cell_type": "code",
   "execution_count": 22,
   "id": "c82f8e6e",
   "metadata": {},
   "outputs": [
    {
     "data": {
      "text/plain": [
       "Male      156\n",
       "Female     79\n",
       "Name: 성별, dtype: int64"
      ]
     },
     "execution_count": 22,
     "metadata": {},
     "output_type": "execute_result"
    }
   ],
   "source": [
    "s['성별'].value_counts()"
   ]
  },
  {
   "cell_type": "code",
   "execution_count": 23,
   "id": "a8f8dc83",
   "metadata": {},
   "outputs": [
    {
     "data": {
      "text/plain": [
       "남자    177\n",
       "여자     88\n",
       "Name: 성별, dtype: int64"
      ]
     },
     "execution_count": 23,
     "metadata": {},
     "output_type": "execute_result"
    }
   ],
   "source": [
    "y['성별'].value_counts()"
   ]
  },
  {
   "cell_type": "code",
   "execution_count": 24,
   "id": "ddef6aee",
   "metadata": {},
   "outputs": [],
   "source": [
    "male = s[s['성별'] == 'Male'].sample(n = 79) # random sampling\n",
    "\n",
    "female = s[s['성별'] == 'Female']"
   ]
  },
  {
   "cell_type": "code",
   "execution_count": 25,
   "id": "4328500c",
   "metadata": {},
   "outputs": [
    {
     "data": {
      "text/html": [
       "<div>\n",
       "<style scoped>\n",
       "    .dataframe tbody tr th:only-of-type {\n",
       "        vertical-align: middle;\n",
       "    }\n",
       "\n",
       "    .dataframe tbody tr th {\n",
       "        vertical-align: top;\n",
       "    }\n",
       "\n",
       "    .dataframe thead th {\n",
       "        text-align: right;\n",
       "    }\n",
       "</style>\n",
       "<table border=\"1\" class=\"dataframe\">\n",
       "  <thead>\n",
       "    <tr style=\"text-align: right;\">\n",
       "      <th></th>\n",
       "      <th>성별</th>\n",
       "      <th>전공</th>\n",
       "      <th>신장</th>\n",
       "      <th>몸무게</th>\n",
       "      <th>1학년평균성적</th>\n",
       "      <th>2학년평균성적</th>\n",
       "      <th>3학년평균성적</th>\n",
       "      <th>취미</th>\n",
       "      <th>일평균학습시간</th>\n",
       "      <th>집중공부시간</th>\n",
       "      <th>기대연봉</th>\n",
       "      <th>전공만족여부</th>\n",
       "      <th>전공관련취업선호도</th>\n",
       "      <th>일평균소셜미디어사용시간</th>\n",
       "      <th>통학시간</th>\n",
       "      <th>학업스트레스</th>\n",
       "      <th>교우관계스트레스</th>\n",
       "      <th>아르바이트여부</th>\n",
       "      <th>방과후수업여부</th>\n",
       "    </tr>\n",
       "  </thead>\n",
       "  <tbody>\n",
       "    <tr>\n",
       "      <th>134</th>\n",
       "      <td>Male</td>\n",
       "      <td>BCA</td>\n",
       "      <td>167.0</td>\n",
       "      <td>72.0</td>\n",
       "      <td>85</td>\n",
       "      <td>60</td>\n",
       "      <td>60</td>\n",
       "      <td>Video Games</td>\n",
       "      <td>2 - 3 hour</td>\n",
       "      <td>Anytime</td>\n",
       "      <td>20000</td>\n",
       "      <td>Yes</td>\n",
       "      <td>50%</td>\n",
       "      <td>1 - 30 Minute</td>\n",
       "      <td>30 - 60 minutes</td>\n",
       "      <td>너무 좋음</td>\n",
       "      <td>좋음</td>\n",
       "      <td>No</td>\n",
       "      <td>Yes</td>\n",
       "    </tr>\n",
       "  </tbody>\n",
       "</table>\n",
       "</div>"
      ],
      "text/plain": [
       "       성별   전공     신장   몸무게  1학년평균성적  2학년평균성적  3학년평균성적           취미  \\\n",
       "134  Male  BCA  167.0  72.0       85       60       60  Video Games   \n",
       "\n",
       "        일평균학습시간   집중공부시간   기대연봉 전공만족여부 전공관련취업선호도   일평균소셜미디어사용시간  \\\n",
       "134  2 - 3 hour  Anytime  20000    Yes       50%  1 - 30 Minute   \n",
       "\n",
       "                통학시간 학업스트레스 교우관계스트레스 아르바이트여부 방과후수업여부  \n",
       "134  30 - 60 minutes  너무 좋음       좋음      No     Yes  "
      ]
     },
     "execution_count": 25,
     "metadata": {},
     "output_type": "execute_result"
    }
   ],
   "source": [
    "new_df = pd.concat([male,female])\n",
    "new_df.head(1)"
   ]
  },
  {
   "cell_type": "code",
   "execution_count": 26,
   "id": "94f87ee2",
   "metadata": {},
   "outputs": [
    {
     "data": {
      "text/plain": [
       "Text(9.951937499999994, 0.5, '성적')"
      ]
     },
     "execution_count": 26,
     "metadata": {},
     "output_type": "execute_result"
    },
    {
     "data": {
      "image/png": "[encoded data removed]",
      "text/plain": [
       "<Figure size 594.625x500 with 1 Axes>"
      ]
     },
     "metadata": {},
     "output_type": "display_data"
    }
   ],
   "source": [
    "sns.displot(data=new_df, x='2학년평균성적', hue='성별')\n",
    "plt.ylabel('성적')"
   ]
  },
  {
   "cell_type": "code",
   "execution_count": 28,
   "id": "5100205d",
   "metadata": {},
   "outputs": [],
   "source": [
    "new_df = pd.melt(new_df, id_vars=['성별'], value_vars=['1학년평균성적','2학년평균성적','3학년평균성적'])"
   ]
  },
  {
   "cell_type": "code",
   "execution_count": 29,
   "id": "febf341f",
   "metadata": {},
   "outputs": [
    {
     "data": {
      "text/html": [
       "<div>\n",
       "<style scoped>\n",
       "    .dataframe tbody tr th:only-of-type {\n",
       "        vertical-align: middle;\n",
       "    }\n",
       "\n",
       "    .dataframe tbody tr th {\n",
       "        vertical-align: top;\n",
       "    }\n",
       "\n",
       "    .dataframe thead th {\n",
       "        text-align: right;\n",
       "    }\n",
       "</style>\n",
       "<table border=\"1\" class=\"dataframe\">\n",
       "  <thead>\n",
       "    <tr style=\"text-align: right;\">\n",
       "      <th></th>\n",
       "      <th>성별</th>\n",
       "      <th>variable</th>\n",
       "      <th>value</th>\n",
       "    </tr>\n",
       "  </thead>\n",
       "  <tbody>\n",
       "    <tr>\n",
       "      <th>0</th>\n",
       "      <td>Male</td>\n",
       "      <td>1학년평균성적</td>\n",
       "      <td>85</td>\n",
       "    </tr>\n",
       "    <tr>\n",
       "      <th>1</th>\n",
       "      <td>Male</td>\n",
       "      <td>1학년평균성적</td>\n",
       "      <td>78</td>\n",
       "    </tr>\n",
       "    <tr>\n",
       "      <th>2</th>\n",
       "      <td>Male</td>\n",
       "      <td>1학년평균성적</td>\n",
       "      <td>55</td>\n",
       "    </tr>\n",
       "    <tr>\n",
       "      <th>3</th>\n",
       "      <td>Male</td>\n",
       "      <td>1학년평균성적</td>\n",
       "      <td>91</td>\n",
       "    </tr>\n",
       "    <tr>\n",
       "      <th>4</th>\n",
       "      <td>Male</td>\n",
       "      <td>1학년평균성적</td>\n",
       "      <td>72</td>\n",
       "    </tr>\n",
       "    <tr>\n",
       "      <th>...</th>\n",
       "      <td>...</td>\n",
       "      <td>...</td>\n",
       "      <td>...</td>\n",
       "    </tr>\n",
       "    <tr>\n",
       "      <th>469</th>\n",
       "      <td>Female</td>\n",
       "      <td>3학년평균성적</td>\n",
       "      <td>90</td>\n",
       "    </tr>\n",
       "    <tr>\n",
       "      <th>470</th>\n",
       "      <td>Female</td>\n",
       "      <td>3학년평균성적</td>\n",
       "      <td>70</td>\n",
       "    </tr>\n",
       "    <tr>\n",
       "      <th>471</th>\n",
       "      <td>Female</td>\n",
       "      <td>3학년평균성적</td>\n",
       "      <td>70</td>\n",
       "    </tr>\n",
       "    <tr>\n",
       "      <th>472</th>\n",
       "      <td>Female</td>\n",
       "      <td>3학년평균성적</td>\n",
       "      <td>75</td>\n",
       "    </tr>\n",
       "    <tr>\n",
       "      <th>473</th>\n",
       "      <td>Female</td>\n",
       "      <td>3학년평균성적</td>\n",
       "      <td>50</td>\n",
       "    </tr>\n",
       "  </tbody>\n",
       "</table>\n",
       "<p>474 rows × 3 columns</p>\n",
       "</div>"
      ],
      "text/plain": [
       "         성별 variable  value\n",
       "0      Male  1학년평균성적     85\n",
       "1      Male  1학년평균성적     78\n",
       "2      Male  1학년평균성적     55\n",
       "3      Male  1학년평균성적     91\n",
       "4      Male  1학년평균성적     72\n",
       "..      ...      ...    ...\n",
       "469  Female  3학년평균성적     90\n",
       "470  Female  3학년평균성적     70\n",
       "471  Female  3학년평균성적     70\n",
       "472  Female  3학년평균성적     75\n",
       "473  Female  3학년평균성적     50\n",
       "\n",
       "[474 rows x 3 columns]"
      ]
     },
     "execution_count": 29,
     "metadata": {},
     "output_type": "execute_result"
    }
   ],
   "source": [
    "new_df"
   ]
  },
  {
   "cell_type": "code",
   "execution_count": 30,
   "id": "bb1b5d85",
   "metadata": {},
   "outputs": [
    {
     "data": {
      "image/png": "[encoded data removed]",
      "text/plain": [
       "<Figure size 640x480 with 1 Axes>"
      ]
     },
     "metadata": {},
     "output_type": "display_data"
    }
   ],
   "source": [
    "sns.barplot(data=new_df, x='variable', y='value')\n",
    "plt.title('학년별 학교 성적')\n",
    "plt.ylim(0,100)\n",
    "plt.show()"
   ]
  },
  {
   "cell_type": "code",
   "execution_count": 61,
   "id": "0f93ecd0",
   "metadata": {},
   "outputs": [
    {
     "data": {
      "image/png": "[encoded data removed]",
      "text/plain": [
       "<Figure size 800x600 with 1 Axes>"
      ]
     },
     "metadata": {},
     "output_type": "display_data"
    }
   ],
   "source": [
    "plt.figure(figsize=(8,6))\n",
    "sns.barplot(data=new_df, x='variable', y='value', hue='성별')\n",
    "plt.yticks([0,20,40,60,80,100])\n",
    "plt.title(\"학년, 성별에 따른 학교 성적\", fontsize = 30)\n",
    "plt.ylabel('성적',fontsize = 20)\n",
    "plt.xlabel('학년',fontsize = 20)\n",
    "plt.show()"
   ]
  },
  {
   "cell_type": "code",
   "execution_count": null,
   "id": "f0b16afe",
   "metadata": {},
   "outputs": [],
   "source": []
  }
 ],
 "metadata": {
  "kernelspec": {
   "display_name": "Python 3 (ipykernel)",
   "language": "python",
   "name": "python3"
  },
  "language_info": {
   "codemirror_mode": {
    "name": "ipython",
    "version": 3
   },
   "file_extension": ".py",
   "mimetype": "text/x-python",
   "name": "python",
   "nbconvert_exporter": "python",
   "pygments_lexer": "ipython3",
   "version": "3.9.13"
  }
 },
 "nbformat": 4,
 "nbformat_minor": 5
}
