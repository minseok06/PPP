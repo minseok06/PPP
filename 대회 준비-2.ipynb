{
 "cells": [
  {
   "cell_type": "markdown",
   "id": "d70a472d-e0c5-413a-a663-c6995bd8eda2",
   "metadata": {},
   "source": [
    "# 아침 7~9시 60만명 이상 승차하는 역"
   ]
  },
  {
   "cell_type": "code",
   "execution_count": 272,
   "id": "4d08af22-5864-4c11-9226-505c60d9eae7",
   "metadata": {
    "tags": []
   },
   "outputs": [
    {
     "name": "stdout",
     "output_type": "stream",
     "text": [
      "신림(2호선) :  634022\n"
     ]
    }
   ],
   "source": [
    "import csv\n",
    "import matplotlib.pyplot as plt\n",
    "\n",
    "f = open('subway202306.csv')\n",
    "data = csv.reader(f)\n",
    "next(data)\n",
    "next(data)\n",
    "\n",
    "for row in data :\n",
    "    row[4:] = map(int, row[4:])\n",
    "    if sum(row[10:15:2]) > 600000:\n",
    "        mx =  sum(row[10:15:2])\n",
    "        mx_station = row[3] + '('+row[1]+') : '\n",
    "        print(mx_station, mx)"
   ]
  },
  {
   "cell_type": "markdown",
   "id": "e11eac27-f45d-4615-9bb4-357ed592217f",
   "metadata": {},
   "source": [
    "# 아침 7~9시 60만명 이상 하차하는 역"
   ]
  },
  {
   "cell_type": "code",
   "execution_count": 273,
   "id": "704d7bfd-d4b3-4901-93cc-3bdde5326abb",
   "metadata": {
    "tags": []
   },
   "outputs": [
    {
     "name": "stdout",
     "output_type": "stream",
     "text": [
      "을지로입구(2호선) :  640051\n",
      "삼성(무역센터)(2호선) :  741180\n",
      "선릉(2호선) :  627024\n",
      "역삼(2호선) :  817239\n",
      "강남(2호선) :  760644\n",
      "가산디지털단지(7호선) :  721107\n"
     ]
    }
   ],
   "source": [
    "import csv\n",
    "import matplotlib.pyplot as plt\n",
    "f = open('subway202306.csv')\n",
    "data = csv.reader(f)\n",
    "next(data)\n",
    "next(data)\n",
    "\n",
    "for row in data:\n",
    "    row[4:] = map(int, row[4:])\n",
    "    if sum(row[11:16:2]) > 600000:\n",
    "        mx = sum(row[11:16:2])\n",
    "        mx_station = row[3]+'('+row[1]+') : '\n",
    "        print(mx_station, mx)"
   ]
  },
  {
   "cell_type": "markdown",
   "id": "2ada802d-e2bd-4608-91c6-5f3cc0858083",
   "metadata": {},
   "source": [
    "# 시간대별 30만명 이상 승차하는 역과 인원 출력"
   ]
  },
  {
   "cell_type": "code",
   "execution_count": 274,
   "id": "fbd6c86e-677f-48f1-87cb-1876703bf26d",
   "metadata": {
    "tags": []
   },
   "outputs": [
    {
     "name": "stdin",
     "output_type": "stream",
     "text": [
      "지하철역 승하차 시작시간을 입력해주세요. :  10\n",
      "지하철역 승하차 마지막시간을 입력해주세요. :  14\n"
     ]
    },
    {
     "name": "stdout",
     "output_type": "stream",
     "text": [
      "------------------------------------------------\n",
      "10 ~ 14시 사이에 30만명 이상 승차하는 역 입니다.\n",
      "------------------------------------------------\n",
      "서울역(1호선) : 316765\n",
      "잠실(송파구청)(2호선) : 354210\n",
      "강남(2호선) : 303246\n",
      "신림(2호선) : 325206\n"
     ]
    }
   ],
   "source": [
    "import csv\n",
    "import matplotlib.pyplot as plt\n",
    "\n",
    "f = open('subway202306.csv')\n",
    "data = csv.reader(f)\n",
    "next(data)\n",
    "next(data)\n",
    "\n",
    "t1 = input('지하철역 승하차 시작시간을 입력해주세요. : ')\n",
    "t2 = input('지하철역 승하차 마지막시간을 입력해주세요. : ')\n",
    "print('------------------------------------------------')\n",
    "print('{} ~ {}시 사이에 30만명 이상 승차하는 역 입니다.'.format(t1,t2))\n",
    "print('------------------------------------------------')\n",
    "\n",
    "a = 2*int(t1)-4\n",
    "b = 2*int(t2)-4\n",
    "# -4이면 승차\n",
    "# -3이면 하차\n",
    "\n",
    "for row in data :\n",
    "    row[4:] = map(int, row[4:])\n",
    "    if sum(row[a:b:2]) > 300000:\n",
    "        mx = sum(row[a:b:2])\n",
    "        mx_station = row[3] + '(' +row[1]+') :'\n",
    "        print(mx_station, mx)"
   ]
  },
  {
   "cell_type": "code",
   "execution_count": null,
   "id": "30df7aa6-776a-4549-a9e8-73854437b60a",
   "metadata": {},
   "outputs": [],
   "source": []
  }
 ],
 "metadata": {
  "kernelspec": {
   "display_name": "Python 3 (ipykernel)",
   "language": "python",
   "name": "python3"
  },
  "language_info": {
   "codemirror_mode": {
    "name": "ipython",
    "version": 3
   },
   "file_extension": ".py",
   "mimetype": "text/x-python",
   "name": "python",
   "nbconvert_exporter": "python",
   "pygments_lexer": "ipython3",
   "version": "3.11.3"
  }
 },
 "nbformat": 4,
 "nbformat_minor": 5
}
