{
 "cells": [
  {
   "cell_type": "markdown",
   "id": "e11eac27-f45d-4615-9bb4-357ed592217f",
   "metadata": {},
   "source": [
    "# 아침 7~9시 30만명 이상 하차하는 역 찾기"
   ]
  },
  {
   "cell_type": "code",
   "execution_count": 78,
   "id": "704d7bfd-d4b3-4901-93cc-3bdde5326abb",
   "metadata": {
    "tags": []
   },
   "outputs": [
    {
     "name": "stdout",
     "output_type": "stream",
     "text": [
      "서울역(1호선) :  502164\n",
      "시청(1호선) :  366430\n",
      "종각(1호선) :  531965\n",
      "시청(2호선) :  379739\n",
      "을지로입구(2호선) :  640051\n",
      "을지로3가(2호선) :  322155\n",
      "성수(2호선) :  482331\n",
      "잠실(송파구청)(2호선) :  407692\n",
      "삼성(무역센터)(2호선) :  741180\n",
      "선릉(2호선) :  627024\n",
      "역삼(2호선) :  817239\n",
      "강남(2호선) :  760644\n",
      "교대(법원.검찰청)(2호선) :  357483\n",
      "구로디지털단지(2호선) :  458975\n",
      "압구정(3호선) :  360083\n",
      "남부터미널(예술의전당)(3호선) :  302150\n",
      "양재(서초구청)(3호선) :  464687\n",
      "충무로(4호선) :  340959\n",
      "회현(남대문시장)(4호선) :  309398\n",
      "용산(경부선) :  348981\n",
      "여의도(5호선) :  443525\n",
      "광화문(세종문화회관)(5호선) :  480333\n",
      "청담(7호선) :  303311\n",
      "학동(7호선) :  377641\n",
      "가산디지털단지(7호선) :  721107\n",
      "여의도(9호선) :  387785\n"
     ]
    }
   ],
   "source": [
    "import csv\n",
    "\n",
    "f = open('subway202306.csv')\n",
    "data = csv.reader(f)\n",
    "next(data)\n",
    "next(data)\n",
    "\n",
    "mx = 0\n",
    "mx_station = ''\n",
    "\n",
    "for row in data :\n",
    "    row[4:] = map(int, row[4:])\n",
    "    if sum(row[11:16:2]) > 300000:\n",
    "        mx = sum(row[11:16:2])\n",
    "        mx_station  = row[3]+'('+row[1]+') : '\n",
    "        print(mx_station, mx)"
   ]
  },
  {
   "cell_type": "code",
   "execution_count": null,
   "id": "b2b56815-f932-4cf1-832d-36efae42b649",
   "metadata": {},
   "outputs": [],
   "source": []
  }
 ],
 "metadata": {
  "kernelspec": {
   "display_name": "Python 3 (ipykernel)",
   "language": "python",
   "name": "python3"
  },
  "language_info": {
   "codemirror_mode": {
    "name": "ipython",
    "version": 3
   },
   "file_extension": ".py",
   "mimetype": "text/x-python",
   "name": "python",
   "nbconvert_exporter": "python",
   "pygments_lexer": "ipython3",
   "version": "3.11.3"
  }
 },
 "nbformat": 4,
 "nbformat_minor": 5
}
